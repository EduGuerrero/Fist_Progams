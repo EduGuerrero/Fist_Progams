{
  "nbformat": 4,
  "nbformat_minor": 0,
  "metadata": {
    "colab": {
      "name": "Untitled0.ipynb",
      "provenance": [],
      "authorship_tag": "ABX9TyP0ys6WbiiWZZQ3RUHabqgz",
      "include_colab_link": true
    },
    "kernelspec": {
      "name": "python3",
      "display_name": "Python 3"
    }
  },
  "cells": [
    {
      "cell_type": "markdown",
      "metadata": {
        "id": "view-in-github",
        "colab_type": "text"
      },
      "source": [
        "<a href=\"https://colab.research.google.com/github/EduGuerrero/Fist_Progams/blob/main/Amort_Table.ipynb\" target=\"_parent\"><img src=\"https://colab.research.google.com/assets/colab-badge.svg\" alt=\"Open In Colab\"/></a>"
      ]
    },
    {
      "cell_type": "markdown",
      "metadata": {
        "id": "PjC_QqbTSL6u"
      },
      "source": [
        "## Tabla de Amortización"
      ]
    },
    {
      "cell_type": "code",
      "metadata": {
        "id": "f3eY7UfKR9li",
        "outputId": "42c550e0-d948-46b6-8a4c-8452e0d6bd52",
        "colab": {
          "base_uri": "https://localhost:8080/",
          "height": 459
        }
      },
      "source": [
        "#Preguntar al usuario los valores, básico\n",
        "SII= float(input(\"Cuánto es el Total del préstamo :\"))\n",
        "T= float(input(\"A qué tasa de Interés te dieron el préstamo: \"))\n",
        "Ti = T/100\n",
        "m= float(input(\"Cuál es la frecuencia de pago?: \"))\n",
        "Plazo= float(input(\"A cuantos años lo vas pagar/liquidar?: \")) \n",
        "\n",
        "Total_Pagos= m*Plazo\n",
        "\n",
        "#Anualidad para calcular el pago sostenido mensual\n",
        "\n",
        "A = (1-1/(1+ Ti/m)**(Plazo*m))/(Ti/m)\n",
        "\n",
        "# Pago Sostenido Anual\n",
        "Pago = (SII/A)\n",
        "print(\"El pago sostenido será de: \", Pago)\n",
        "\n",
        "#Empezaré a construir la tabla de amortización \n",
        "# Comenzaré por escribir el perido cero\n",
        "#le daré el valor de t a los plazos\n",
        "\n",
        "t=0\n",
        "SIF=SII\n",
        "\n",
        "print(\"Periodo:\",t,\"SII:\",SII, \"Intereses:\", 0, \"Capital:\", 0, \"Pago:\", 0, \"SIF:\", SIF)\n",
        "\n",
        "#\n",
        "\n",
        "while t < Total_Pagos:\n",
        "    t+=1\n",
        "    SII= SIF*(1+Ti/m)\n",
        "    Interes= SII - SIF\n",
        "    Cap= Pago - Interes\n",
        "    SIF= SII - Pago\n",
        "    \n",
        "#     print(\"Periodo:\",t,\"SII: \",SII, \"Intereses:\", Interes, \"Capital:\", Cap, \"Pago:\", Pago, \"SIF:\", SIF)\n",
        "    print(\"Periodo:\",t,\"SII:\",round(SII), \"Intereses:\",round(Interes),\"Capital:\", round(Cap), \"Pago:\",round(Pago),\"SIF:\", round(SIF))\n",
        "    "
      ],
      "execution_count": 2,
      "outputs": [
        {
          "output_type": "stream",
          "text": [
            "Cuánto es el Total del préstamo :150000\n",
            "A qué tasa de Interés te dieron el préstamo: 12\n",
            "Cuál es la frecuencia de pago?: 4\n",
            "A cuantos años lo vas pagar/liquidar?: 5\n",
            "El pago sostenido será de:  10082.356139528863\n",
            "Periodo: 0 SII: 150000.0 Intereses: 0 Capital: 0 Pago: 0 SIF: 150000.0\n",
            "Periodo: 1 SII: 154500 Intereses: 4500 Capital: 5582 Pago: 10082 SIF: 144418\n",
            "Periodo: 2 SII: 148750 Intereses: 4333 Capital: 5750 Pago: 10082 SIF: 138668\n",
            "Periodo: 3 SII: 142828 Intereses: 4160 Capital: 5922 Pago: 10082 SIF: 132745\n",
            "Periodo: 4 SII: 136728 Intereses: 3982 Capital: 6100 Pago: 10082 SIF: 126646\n",
            "Periodo: 5 SII: 130445 Intereses: 3799 Capital: 6283 Pago: 10082 SIF: 120363\n",
            "Periodo: 6 SII: 123973 Intereses: 3611 Capital: 6471 Pago: 10082 SIF: 113891\n",
            "Periodo: 7 SII: 117308 Intereses: 3417 Capital: 6666 Pago: 10082 SIF: 107225\n",
            "Periodo: 8 SII: 110442 Intereses: 3217 Capital: 6866 Pago: 10082 SIF: 100360\n",
            "Periodo: 9 SII: 103371 Intereses: 3011 Capital: 7072 Pago: 10082 SIF: 93288\n",
            "Periodo: 10 SII: 96087 Intereses: 2799 Capital: 7284 Pago: 10082 SIF: 86005\n",
            "Periodo: 11 SII: 88585 Intereses: 2580 Capital: 7502 Pago: 10082 SIF: 78502\n",
            "Periodo: 12 SII: 80857 Intereses: 2355 Capital: 7727 Pago: 10082 SIF: 70775\n",
            "Periodo: 13 SII: 72898 Intereses: 2123 Capital: 7959 Pago: 10082 SIF: 62816\n",
            "Periodo: 14 SII: 64700 Intereses: 1884 Capital: 8198 Pago: 10082 SIF: 54618\n",
            "Periodo: 15 SII: 56257 Intereses: 1639 Capital: 8444 Pago: 10082 SIF: 46174\n",
            "Periodo: 16 SII: 47559 Intereses: 1385 Capital: 8697 Pago: 10082 SIF: 37477\n",
            "Periodo: 17 SII: 38601 Intereses: 1124 Capital: 8958 Pago: 10082 SIF: 28519\n",
            "Periodo: 18 SII: 29375 Intereses: 856 Capital: 9227 Pago: 10082 SIF: 19292\n",
            "Periodo: 19 SII: 19871 Intereses: 579 Capital: 9504 Pago: 10082 SIF: 9789\n",
            "Periodo: 20 SII: 10082 Intereses: 294 Capital: 9789 Pago: 10082 SIF: 0\n"
          ],
          "name": "stdout"
        }
      ]
    }
  ]
}